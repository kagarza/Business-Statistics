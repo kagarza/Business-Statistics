{
 "cells": [
  {
   "cell_type": "markdown",
   "id": "6yDxo9u0d9Na",
   "metadata": {
    "id": "6yDxo9u0d9Na"
   },
   "source": [
    "# Project Business Statistics: E-news Express\n",
    "\n",
    "**Marks: 60**"
   ]
  },
  {
   "cell_type": "markdown",
   "id": "SrLd-ICEmPSD",
   "metadata": {
    "id": "SrLd-ICEmPSD"
   },
   "source": [
    "## Define Problem Statement and Objectives"
   ]
  },
  {
   "cell_type": "markdown",
   "id": "9Vt1PLLqmXNn",
   "metadata": {
    "id": "9Vt1PLLqmXNn"
   },
   "source": []
  },
  {
   "cell_type": "markdown",
   "id": "a6a3d218",
   "metadata": {
    "id": "a6a3d218"
   },
   "source": [
    "## Import all the necessary libraries"
   ]
  },
  {
   "cell_type": "code",
   "execution_count": 1,
   "id": "658c5dec",
   "metadata": {
    "id": "658c5dec"
   },
   "outputs": [],
   "source": [
    "# import libraries for data manipulation\n",
    "import numpy as np\n",
    "import pandas as pd\n",
    "\n",
    "# import libraries for data visualization\n",
    "import matplotlib.pyplot as plt\n",
    "import seaborn as sns\n",
    "%matplotlib inline\n",
    "\n",
    "# import librariess for sstatistical analysis\n",
    "import scipy.stats as stats"
   ]
  },
  {
   "cell_type": "markdown",
   "id": "6970dd99",
   "metadata": {
    "id": "6970dd99"
   },
   "source": [
    "## Reading the Data into a DataFrame"
   ]
  },
  {
   "cell_type": "code",
   "execution_count": 2,
   "id": "d3b95640",
   "metadata": {
    "id": "d3b95640"
   },
   "outputs": [],
   "source": [
    "#read the data\n",
    "data = pd.read_csv('abtest.csv')"
   ]
  },
  {
   "cell_type": "code",
   "execution_count": 3,
   "id": "964632a9",
   "metadata": {},
   "outputs": [],
   "source": [
    "# copying data to another variable to avoid any changes to original data\n",
    "df = data.copy()"
   ]
  },
  {
   "cell_type": "markdown",
   "id": "9d75cfa2",
   "metadata": {
    "id": "9d75cfa2"
   },
   "source": [
    "## Explore the dataset and extract insights using Exploratory Data Analysis"
   ]
  },
  {
   "cell_type": "markdown",
   "id": "27201534",
   "metadata": {
    "id": "27201534"
   },
   "source": [
    "- Data Overview\n",
    "  - Viewing the first and last few rows of the dataset\n",
    "  - Checking the shape of the dataset\n",
    "  - Getting the statistical summary for the variables\n",
    "- Check for missing values\n",
    "- Check for duplicates"
   ]
  },
  {
   "cell_type": "code",
   "execution_count": 4,
   "id": "ae550734",
   "metadata": {},
   "outputs": [
    {
     "data": {
      "text/html": [
       "<div>\n",
       "<style scoped>\n",
       "    .dataframe tbody tr th:only-of-type {\n",
       "        vertical-align: middle;\n",
       "    }\n",
       "\n",
       "    .dataframe tbody tr th {\n",
       "        vertical-align: top;\n",
       "    }\n",
       "\n",
       "    .dataframe thead th {\n",
       "        text-align: right;\n",
       "    }\n",
       "</style>\n",
       "<table border=\"1\" class=\"dataframe\">\n",
       "  <thead>\n",
       "    <tr style=\"text-align: right;\">\n",
       "      <th></th>\n",
       "      <th>user_id</th>\n",
       "      <th>group</th>\n",
       "      <th>landing_page</th>\n",
       "      <th>time_spent_on_the_page</th>\n",
       "      <th>converted</th>\n",
       "      <th>language_preferred</th>\n",
       "    </tr>\n",
       "  </thead>\n",
       "  <tbody>\n",
       "    <tr>\n",
       "      <th>0</th>\n",
       "      <td>546592</td>\n",
       "      <td>control</td>\n",
       "      <td>old</td>\n",
       "      <td>3.48</td>\n",
       "      <td>no</td>\n",
       "      <td>Spanish</td>\n",
       "    </tr>\n",
       "    <tr>\n",
       "      <th>1</th>\n",
       "      <td>546468</td>\n",
       "      <td>treatment</td>\n",
       "      <td>new</td>\n",
       "      <td>7.13</td>\n",
       "      <td>yes</td>\n",
       "      <td>English</td>\n",
       "    </tr>\n",
       "    <tr>\n",
       "      <th>2</th>\n",
       "      <td>546462</td>\n",
       "      <td>treatment</td>\n",
       "      <td>new</td>\n",
       "      <td>4.40</td>\n",
       "      <td>no</td>\n",
       "      <td>Spanish</td>\n",
       "    </tr>\n",
       "    <tr>\n",
       "      <th>3</th>\n",
       "      <td>546567</td>\n",
       "      <td>control</td>\n",
       "      <td>old</td>\n",
       "      <td>3.02</td>\n",
       "      <td>no</td>\n",
       "      <td>French</td>\n",
       "    </tr>\n",
       "    <tr>\n",
       "      <th>4</th>\n",
       "      <td>546459</td>\n",
       "      <td>treatment</td>\n",
       "      <td>new</td>\n",
       "      <td>4.75</td>\n",
       "      <td>yes</td>\n",
       "      <td>Spanish</td>\n",
       "    </tr>\n",
       "  </tbody>\n",
       "</table>\n",
       "</div>"
      ],
      "text/plain": [
       "   user_id      group landing_page  time_spent_on_the_page converted  \\\n",
       "0   546592    control          old                    3.48        no   \n",
       "1   546468  treatment          new                    7.13       yes   \n",
       "2   546462  treatment          new                    4.40        no   \n",
       "3   546567    control          old                    3.02        no   \n",
       "4   546459  treatment          new                    4.75       yes   \n",
       "\n",
       "  language_preferred  \n",
       "0            Spanish  \n",
       "1            English  \n",
       "2            Spanish  \n",
       "3             French  \n",
       "4            Spanish  "
      ]
     },
     "execution_count": 4,
     "metadata": {},
     "output_type": "execute_result"
    }
   ],
   "source": [
    "df.head() #returns first 5 rows"
   ]
  },
  {
   "cell_type": "code",
   "execution_count": 5,
   "id": "65f92f4c",
   "metadata": {
    "scrolled": true
   },
   "outputs": [
    {
     "data": {
      "text/html": [
       "<div>\n",
       "<style scoped>\n",
       "    .dataframe tbody tr th:only-of-type {\n",
       "        vertical-align: middle;\n",
       "    }\n",
       "\n",
       "    .dataframe tbody tr th {\n",
       "        vertical-align: top;\n",
       "    }\n",
       "\n",
       "    .dataframe thead th {\n",
       "        text-align: right;\n",
       "    }\n",
       "</style>\n",
       "<table border=\"1\" class=\"dataframe\">\n",
       "  <thead>\n",
       "    <tr style=\"text-align: right;\">\n",
       "      <th></th>\n",
       "      <th>user_id</th>\n",
       "      <th>group</th>\n",
       "      <th>landing_page</th>\n",
       "      <th>time_spent_on_the_page</th>\n",
       "      <th>converted</th>\n",
       "      <th>language_preferred</th>\n",
       "    </tr>\n",
       "  </thead>\n",
       "  <tbody>\n",
       "    <tr>\n",
       "      <th>95</th>\n",
       "      <td>546446</td>\n",
       "      <td>treatment</td>\n",
       "      <td>new</td>\n",
       "      <td>5.15</td>\n",
       "      <td>no</td>\n",
       "      <td>Spanish</td>\n",
       "    </tr>\n",
       "    <tr>\n",
       "      <th>96</th>\n",
       "      <td>546544</td>\n",
       "      <td>control</td>\n",
       "      <td>old</td>\n",
       "      <td>6.52</td>\n",
       "      <td>yes</td>\n",
       "      <td>English</td>\n",
       "    </tr>\n",
       "    <tr>\n",
       "      <th>97</th>\n",
       "      <td>546472</td>\n",
       "      <td>treatment</td>\n",
       "      <td>new</td>\n",
       "      <td>7.07</td>\n",
       "      <td>yes</td>\n",
       "      <td>Spanish</td>\n",
       "    </tr>\n",
       "    <tr>\n",
       "      <th>98</th>\n",
       "      <td>546481</td>\n",
       "      <td>treatment</td>\n",
       "      <td>new</td>\n",
       "      <td>6.20</td>\n",
       "      <td>yes</td>\n",
       "      <td>Spanish</td>\n",
       "    </tr>\n",
       "    <tr>\n",
       "      <th>99</th>\n",
       "      <td>546483</td>\n",
       "      <td>treatment</td>\n",
       "      <td>new</td>\n",
       "      <td>5.86</td>\n",
       "      <td>yes</td>\n",
       "      <td>English</td>\n",
       "    </tr>\n",
       "  </tbody>\n",
       "</table>\n",
       "</div>"
      ],
      "text/plain": [
       "    user_id      group landing_page  time_spent_on_the_page converted  \\\n",
       "95   546446  treatment          new                    5.15        no   \n",
       "96   546544    control          old                    6.52       yes   \n",
       "97   546472  treatment          new                    7.07       yes   \n",
       "98   546481  treatment          new                    6.20       yes   \n",
       "99   546483  treatment          new                    5.86       yes   \n",
       "\n",
       "   language_preferred  \n",
       "95            Spanish  \n",
       "96            English  \n",
       "97            Spanish  \n",
       "98            Spanish  \n",
       "99            English  "
      ]
     },
     "execution_count": 5,
     "metadata": {},
     "output_type": "execute_result"
    }
   ],
   "source": [
    "df.tail() #returns last 5 rows"
   ]
  },
  {
   "cell_type": "markdown",
   "id": "511c28c6",
   "metadata": {},
   "source": [
    "The data contains \n",
    "- the unique IDs of the users, \n",
    "- their control/treatment group, \n",
    "- the landing page they saw, \n",
    "- the time spent on that landing page, \n",
    "- whether they were converted to a subscriber or not, and \n",
    "- their preferred language. "
   ]
  },
  {
   "cell_type": "code",
   "execution_count": 6,
   "id": "ddcc5a43",
   "metadata": {},
   "outputs": [
    {
     "name": "stdout",
     "output_type": "stream",
     "text": [
      "There are 100 rows and 6 columns.\n"
     ]
    }
   ],
   "source": [
    "# Number of Rows and Columns - df.shape will give the (rows, columns) of the df dataframe.\n",
    "print('There are', df.shape[0], 'rows and', df.shape[1], 'columns.')"
   ]
  },
  {
   "cell_type": "markdown",
   "id": "aa6c8eef",
   "metadata": {},
   "source": [
    "- The dataset contains the information of 100 users."
   ]
  },
  {
   "cell_type": "code",
   "execution_count": 7,
   "id": "d8b79c23",
   "metadata": {
    "scrolled": true
   },
   "outputs": [
    {
     "data": {
      "text/html": [
       "<div>\n",
       "<style scoped>\n",
       "    .dataframe tbody tr th:only-of-type {\n",
       "        vertical-align: middle;\n",
       "    }\n",
       "\n",
       "    .dataframe tbody tr th {\n",
       "        vertical-align: top;\n",
       "    }\n",
       "\n",
       "    .dataframe thead th {\n",
       "        text-align: right;\n",
       "    }\n",
       "</style>\n",
       "<table border=\"1\" class=\"dataframe\">\n",
       "  <thead>\n",
       "    <tr style=\"text-align: right;\">\n",
       "      <th></th>\n",
       "      <th>count</th>\n",
       "      <th>mean</th>\n",
       "      <th>std</th>\n",
       "      <th>min</th>\n",
       "      <th>25%</th>\n",
       "      <th>50%</th>\n",
       "      <th>75%</th>\n",
       "      <th>max</th>\n",
       "    </tr>\n",
       "  </thead>\n",
       "  <tbody>\n",
       "    <tr>\n",
       "      <th>user_id</th>\n",
       "      <td>100.0</td>\n",
       "      <td>546517.0000</td>\n",
       "      <td>52.295779</td>\n",
       "      <td>546443.00</td>\n",
       "      <td>546467.75</td>\n",
       "      <td>546492.500</td>\n",
       "      <td>546567.2500</td>\n",
       "      <td>546592.00</td>\n",
       "    </tr>\n",
       "    <tr>\n",
       "      <th>time_spent_on_the_page</th>\n",
       "      <td>100.0</td>\n",
       "      <td>5.3778</td>\n",
       "      <td>2.378166</td>\n",
       "      <td>0.19</td>\n",
       "      <td>3.88</td>\n",
       "      <td>5.415</td>\n",
       "      <td>7.0225</td>\n",
       "      <td>10.71</td>\n",
       "    </tr>\n",
       "  </tbody>\n",
       "</table>\n",
       "</div>"
      ],
      "text/plain": [
       "                        count         mean        std        min        25%  \\\n",
       "user_id                 100.0  546517.0000  52.295779  546443.00  546467.75   \n",
       "time_spent_on_the_page  100.0       5.3778   2.378166       0.19       3.88   \n",
       "\n",
       "                               50%          75%        max  \n",
       "user_id                 546492.500  546567.2500  546592.00  \n",
       "time_spent_on_the_page       5.415       7.0225      10.71  "
      ]
     },
     "execution_count": 7,
     "metadata": {},
     "output_type": "execute_result"
    }
   ],
   "source": [
    "# Gives the statistical summary of df transposed for easy viewing. \n",
    "df.describe().T"
   ]
  },
  {
   "cell_type": "markdown",
   "id": "979835f0",
   "metadata": {},
   "source": [
    "- the stats for user_id are not meaningful\n",
    "- the average time spent on either page is about 5 minutes 23 seconds with a standard deviation of about 2 minutes 23 seconds\n",
    "- the minimum time spent was about 11 seconds\n",
    "- the maximum time spent was about 10 minutes 43 seconds\n",
    "- 25% of users spent less than 3 minutes 53 seconds on the front page\n",
    "- 50% of users spent less than 5 minutes 25 seconds on the front page\n",
    "- 25% of users spent less than 7 minutes 1 second on the front page"
   ]
  },
  {
   "cell_type": "code",
   "execution_count": 8,
   "id": "efc13620",
   "metadata": {
    "scrolled": true
   },
   "outputs": [
    {
     "name": "stdout",
     "output_type": "stream",
     "text": [
      "<class 'pandas.core.frame.DataFrame'>\n",
      "RangeIndex: 100 entries, 0 to 99\n",
      "Data columns (total 6 columns):\n",
      " #   Column                  Non-Null Count  Dtype  \n",
      "---  ------                  --------------  -----  \n",
      " 0   user_id                 100 non-null    int64  \n",
      " 1   group                   100 non-null    object \n",
      " 2   landing_page            100 non-null    object \n",
      " 3   time_spent_on_the_page  100 non-null    float64\n",
      " 4   converted               100 non-null    object \n",
      " 5   language_preferred      100 non-null    object \n",
      "dtypes: float64(1), int64(1), object(4)\n",
      "memory usage: 4.8+ KB\n"
     ]
    }
   ],
   "source": [
    "# Checks the types of data within each column of the dataframe\n",
    "df.info()"
   ]
  },
  {
   "cell_type": "markdown",
   "id": "1bc022b6",
   "metadata": {},
   "source": [
    "- The data in the `user_id` column is of integer type.\n",
    "- The data in the `group`, `landing_page`, `converted`, and `language preferred` columns are all of the string type.\n",
    "- The data in the `time_spent_on_the_page` column is of float type indicating that it is numerical."
   ]
  },
  {
   "cell_type": "code",
   "execution_count": 9,
   "id": "5e91aa16",
   "metadata": {},
   "outputs": [
    {
     "name": "stdout",
     "output_type": "stream",
     "text": [
      "['control' 'treatment']\n",
      "['old' 'new']\n",
      "['no' 'yes']\n",
      "['Spanish' 'English' 'French']\n",
      "[False]\n"
     ]
    }
   ],
   "source": [
    "# check unique values in object columns\n",
    "print(df['group'].unique())\n",
    "print(df['landing_page'].unique())\n",
    "print(df['converted'].unique())\n",
    "print(df['language_preferred'].unique())\n",
    "\n",
    "#check for duplicates - will print [False] if no duplicates\n",
    "print(df['user_id'].duplicated().unique())"
   ]
  },
  {
   "cell_type": "markdown",
   "id": "91386d2d",
   "metadata": {},
   "source": [
    "- There are no missing values\n",
    "- There are no duplicate user IDs"
   ]
  },
  {
   "cell_type": "markdown",
   "id": "68f3b2c9",
   "metadata": {
    "id": "68f3b2c9"
   },
   "source": [
    "### Univariate Analysis"
   ]
  },
  {
   "cell_type": "code",
   "execution_count": 10,
   "id": "1932d0f3",
   "metadata": {
    "id": "1932d0f3"
   },
   "outputs": [
    {
     "data": {
      "image/png": "[encoded data removed]",
      "text/plain": [
       "<Figure size 640x480 with 1 Axes>"
      ]
     },
     "metadata": {},
     "output_type": "display_data"
    }
   ],
   "source": [
    "#creates a bar graph counting the number of users in the control and treatment groups\n",
    "sns.countplot(data=df,x='group')\n",
    "plt.show()"
   ]
  },
  {
   "cell_type": "markdown",
   "id": "101cf1d9",
   "metadata": {},
   "source": [
    "- the control and treatment groups are indeed 50/50"
   ]
  },
  {
   "cell_type": "code",
   "execution_count": 11,
   "id": "15ce06a3",
   "metadata": {},
   "outputs": [
    {
     "data": {
      "image/png": "[encoded data removed]",
      "text/plain": [
       "<Figure size 640x480 with 1 Axes>"
      ]
     },
     "metadata": {},
     "output_type": "display_data"
    }
   ],
   "source": [
    "#creates a bar graph counting the number of users that saw the old and new landing pages\n",
    "sns.countplot(data=df,x='landing_page')\n",
    "plt.show()"
   ]
  },
  {
   "cell_type": "markdown",
   "id": "5feab814",
   "metadata": {},
   "source": [
    "- the number of old and new page landings are indeed 50/50"
   ]
  },
  {
   "cell_type": "code",
   "execution_count": 12,
   "id": "ceb1c48d",
   "metadata": {},
   "outputs": [
    {
     "data": {
      "image/png": "[encoded data removed]",
      "text/plain": [
       "<Figure size 640x480 with 1 Axes>"
      ]
     },
     "metadata": {},
     "output_type": "display_data"
    }
   ],
   "source": [
    "#creates a bar graph counting the number of users that did or did not subscribe\n",
    "sns.countplot(data=df,x='converted')\n",
    "plt.show()"
   ]
  },
  {
   "cell_type": "markdown",
   "id": "e9ed39a4",
   "metadata": {},
   "source": [
    "- Of the 100 users, more were converted to subscribers than not. "
   ]
  },
  {
   "cell_type": "code",
   "execution_count": 13,
   "id": "334b3dde",
   "metadata": {},
   "outputs": [
    {
     "data": {
      "image/png": "[encoded data removed]",
      "text/plain": [
       "<Figure size 640x480 with 1 Axes>"
      ]
     },
     "metadata": {},
     "output_type": "display_data"
    }
   ],
   "source": [
    "# creates a bar graph that counts the number of users that preferred each language\n",
    "sns.countplot(data=df,x='language_preferred')\n",
    "plt.show()"
   ]
  },
  {
   "cell_type": "markdown",
   "id": "a82ee9bf",
   "metadata": {},
   "source": [
    "- All three languages are represented roughly equally. English is a little bit less than the other two. "
   ]
  },
  {
   "cell_type": "code",
   "execution_count": 14,
   "id": "56f5a7bf",
   "metadata": {},
   "outputs": [
    {
     "data": {
      "image/png": "[encoded data removed]",
      "text/plain": [
       "<Figure size 640x480 with 1 Axes>"
      ]
     },
     "metadata": {},
     "output_type": "display_data"
    }
   ],
   "source": [
    "# creates a histogram that shows the distribution of times spent on the landing pages\n",
    "sns.histplot(data=df,x='time_spent_on_the_page')\n",
    "plt.show()"
   ]
  },
  {
   "cell_type": "markdown",
   "id": "727835a4",
   "metadata": {},
   "source": [
    "- The time users spend on the landing page seems to be symmetrical and approximately normally distributied."
   ]
  },
  {
   "cell_type": "markdown",
   "id": "fad2de2f",
   "metadata": {
    "id": "fad2de2f"
   },
   "source": [
    "### Bivariate Analysis"
   ]
  },
  {
   "cell_type": "code",
   "execution_count": 15,
   "id": "58e9a1d0",
   "metadata": {
    "id": "58e9a1d0"
   },
   "outputs": [
    {
     "name": "stdout",
     "output_type": "stream",
     "text": [
      "The number of mismatches is: 0\n"
     ]
    }
   ],
   "source": [
    "#check if every user in the control group got the old page and every user in the treatment group got the new page.\n",
    "m = 0\n",
    "for index, row in df.iterrows():\n",
    "    if (row['group'] == 'control') & (row['landing_page'] == 'new'):\n",
    "        m += 1 \n",
    "    if (row['group'] == 'treatment') & (row['landing_page'] == 'old'):\n",
    "        m += 1\n",
    "print('The number of mismatches is: ' + str(m))"
   ]
  },
  {
   "cell_type": "markdown",
   "id": "fc2232ea",
   "metadata": {},
   "source": [
    "- Everyone in the treatment group got the new landing page, and everyone in the control group got the old landing page. \n",
    "- I can treat `group` and `landing_page` as the same variable going forward."
   ]
  },
  {
   "cell_type": "code",
   "execution_count": 16,
   "id": "d2f23b6f",
   "metadata": {},
   "outputs": [
    {
     "data": {
      "image/png": "[encoded data removed]",
      "text/plain": [
       "<Figure size 640x480 with 1 Axes>"
      ]
     },
     "metadata": {},
     "output_type": "display_data"
    }
   ],
   "source": [
    "# creates a bar graph that counts the number of users who saw each landing page with each preferred language\n",
    "sns.countplot(data=df, x='language_preferred', hue='landing_page')\n",
    "plt.show()"
   ]
  },
  {
   "cell_type": "markdown",
   "id": "b988cfdf",
   "metadata": {},
   "source": [
    "- Each language was represented equally in the control and treatment groups."
   ]
  },
  {
   "cell_type": "code",
   "execution_count": 17,
   "id": "0986724e",
   "metadata": {},
   "outputs": [
    {
     "data": {
      "image/png": "[encoded data removed]",
      "text/plain": [
       "<Figure size 500x500 with 1 Axes>"
      ]
     },
     "metadata": {},
     "output_type": "display_data"
    }
   ],
   "source": [
    "#time spent on page vs language preferred\n",
    "sns.catplot(x='language_preferred', y='time_spent_on_the_page', data=df, kind='bar')\n",
    "plt.show()"
   ]
  },
  {
   "cell_type": "markdown",
   "id": "b1f1b544",
   "metadata": {},
   "source": [
    "- English has the highest time spent on page. \n",
    "- However, all three languages are within each other 95% confidence intervals indicating no statistically significant difference."
   ]
  },
  {
   "cell_type": "markdown",
   "id": "27906576",
   "metadata": {
    "id": "27906576"
   },
   "source": [
    "## 1. Do the users spend more time on the new landing page than the existing landing page?"
   ]
  },
  {
   "cell_type": "markdown",
   "id": "e5fdf0c8",
   "metadata": {
    "id": "e5fdf0c8"
   },
   "source": [
    "### Perform Visual Analysis"
   ]
  },
  {
   "cell_type": "code",
   "execution_count": 18,
   "id": "6eZJa41eg21n",
   "metadata": {
    "id": "6eZJa41eg21n"
   },
   "outputs": [
    {
     "data": {
      "image/png": "[encoded data removed]",
      "text/plain": [
       "<Figure size 640x480 with 1 Axes>"
      ]
     },
     "metadata": {},
     "output_type": "display_data"
    }
   ],
   "source": [
    "# visual analysis\n",
    "sns.boxplot(data=df, x='time_spent_on_the_page', y='landing_page',orient='h')\n",
    "plt.xlabel('Minutes')\n",
    "plt.ylabel('Landing Page')\n",
    "plt.show()"
   ]
  },
  {
   "cell_type": "markdown",
   "id": "559f89e7",
   "metadata": {},
   "source": [
    "- The variation for the treatment group is noticeably small than the variation for the control group.\n",
    "- The median for the treatment group is nearly equal to the third quartile of the control group.\n",
    "- These may indicate a significant difference in the mean times."
   ]
  },
  {
   "cell_type": "markdown",
   "id": "56b3dafd",
   "metadata": {
    "id": "56b3dafd"
   },
   "source": [
    "### Step 1: Define the null and alternate hypotheses"
   ]
  },
  {
   "cell_type": "markdown",
   "id": "d2ac77ef",
   "metadata": {
    "id": "d2ac77ef"
   },
   "source": [
    "The null and alternative hypotheses can be formulated as follows:\n",
    "> $H_0:$ The mean time spent on the new landing page is equal to the time spent on the existing landing page. <br>\n",
    "$H_a:$ The mean time spent on the new landing page is more than on the existing landing page.\n",
    "\n",
    "Let $\\mu_1$ and $\\mu_2$ be the mean time spent on the existing landing page and the new landing page, respectively. \n",
    "\n",
    "The above formulated hypotheses can be written mathematically as:\n",
    "> $H_0: \\mu_1 = \\mu_2 $ <br>\n",
    "$H_a: \\mu_1 < \\mu_2 $"
   ]
  },
  {
   "cell_type": "markdown",
   "id": "c7ee4907",
   "metadata": {
    "id": "c7ee4907"
   },
   "source": [
    "### Step 2: Select Appropriate test"
   ]
  },
  {
   "cell_type": "markdown",
   "id": "2c183cd7",
   "metadata": {
    "id": "2c183cd7"
   },
   "source": [
    "- The data is continuous and numerical\n",
    "- We have a one-tailed alternative hypothesis.\n",
    "- We are comparing the means of two populations.\n",
    "- Since the control group is completely seperate from the treatment group, the two samples are independent.\n",
    "- The population standard deviations are not given, and from the initial visual analysis, they are not equal. (An f-test is given below to be sure.)\n",
    "\n",
    "#### A T-test for comparing means is appropriate here."
   ]
  },
  {
   "cell_type": "markdown",
   "id": "3f58c9a7",
   "metadata": {
    "id": "3f58c9a7"
   },
   "source": [
    "### Step 3: Decide the significance level"
   ]
  },
  {
   "cell_type": "markdown",
   "id": "92d7d7ee",
   "metadata": {
    "id": "92d7d7ee"
   },
   "source": [
    "We've been given a significance level of $\\alpha = 0.05$."
   ]
  },
  {
   "cell_type": "markdown",
   "id": "5fed2eac",
   "metadata": {
    "id": "5fed2eac"
   },
   "source": [
    "### Step 4: Collect and prepare data"
   ]
  },
  {
   "cell_type": "code",
   "execution_count": 19,
   "id": "f5a59495",
   "metadata": {
    "id": "f5a59495"
   },
   "outputs": [],
   "source": [
    "times_new = df.loc[df['landing_page'] == 'new', 'time_spent_on_the_page']\n",
    "times_old = df.loc[df['landing_page'] == 'old', 'time_spent_on_the_page']"
   ]
  },
  {
   "cell_type": "code",
   "execution_count": 20,
   "id": "43ce3ea3",
   "metadata": {},
   "outputs": [
    {
     "data": {
      "text/plain": [
       "0.00026322470561900095"
      ]
     },
     "execution_count": 20,
     "metadata": {},
     "output_type": "execute_result"
    }
   ],
   "source": [
    "# a quick f-test to see if the standard deviations are in fact different\n",
    "from scipy.stats import f_oneway\n",
    "\n",
    "test_stat, p_value = f_oneway(times_new, times_old)\n",
    "p_value"
   ]
  },
  {
   "cell_type": "markdown",
   "id": "f5c5258d",
   "metadata": {
    "id": "f5c5258d"
   },
   "source": [
    "### Step 5: Calculate the p-value"
   ]
  },
  {
   "cell_type": "code",
   "execution_count": 21,
   "id": "fac8594a",
   "metadata": {
    "id": "fac8594a"
   },
   "outputs": [
    {
     "name": "stdout",
     "output_type": "stream",
     "text": [
      "The p-value is 0.0001392381225166549.\n"
     ]
    }
   ],
   "source": [
    "from scipy.stats import ttest_ind\n",
    "test_stat, p_value = ttest_ind(times_new, times_old, equal_var = False, alternative = 'greater')\n",
    "print('The p-value is ' + str(p_value) + '.')"
   ]
  },
  {
   "cell_type": "markdown",
   "id": "359b12f8",
   "metadata": {
    "id": "359b12f8"
   },
   "source": [
    "### Step 6: Compare the p-value with $\\alpha$"
   ]
  },
  {
   "cell_type": "code",
   "execution_count": 22,
   "id": "7be47289",
   "metadata": {
    "id": "7be47289"
   },
   "outputs": [
    {
     "name": "stdout",
     "output_type": "stream",
     "text": [
      "Since the p-value, equal to 0.0001392381225166549, is less than the level of significance, we reject the null hypothesis.\n"
     ]
    }
   ],
   "source": [
    "# print the conclusion based on p-value\n",
    "if p_value < 0.05:\n",
    "    print(f'Since the p-value, equal to {p_value}, is less than the level of significance, we reject the null hypothesis.')\n",
    "else:\n",
    "    print(f'Since the p-value, equal to {p_value}, is greater than the level of significance, we fail to reject the null hypothesis.')"
   ]
  },
  {
   "cell_type": "markdown",
   "id": "d9affc84",
   "metadata": {
    "id": "d9affc84"
   },
   "source": [
    "### Step 7:  Draw inference"
   ]
  },
  {
   "cell_type": "markdown",
   "id": "6b16dd4b",
   "metadata": {
    "id": "6b16dd4b"
   },
   "source": [
    "At a 5% significance level, there is sufficient evidence to reject the null hypothesis. Hence, there is enough statistical evidence to say the time spent on the new landing page is greater than the time spent on the existing landing page. "
   ]
  },
  {
   "cell_type": "markdown",
   "id": "1ad0823a",
   "metadata": {
    "id": "1ad0823a"
   },
   "source": [
    "**A similar approach can be followed to answer the other questions.**"
   ]
  },
  {
   "cell_type": "markdown",
   "id": "353e9d24",
   "metadata": {
    "id": "353e9d24"
   },
   "source": [
    "## 2. Is the conversion rate (the proportion of users who visit the landing page and get converted) for the new page greater than the conversion rate for the old page?"
   ]
  },
  {
   "cell_type": "markdown",
   "id": "2b0bcd71",
   "metadata": {
    "id": "b7f52898"
   },
   "source": [
    "### Perform Visual Analysis"
   ]
  },
  {
   "cell_type": "code",
   "execution_count": 23,
   "id": "322d68b4",
   "metadata": {},
   "outputs": [
    {
     "data": {
      "image/png": "[encoded data removed]",
      "text/plain": [
       "<Figure size 640x480 with 1 Axes>"
      ]
     },
     "metadata": {},
     "output_type": "display_data"
    }
   ],
   "source": [
    "# visual analysis\n",
    "sns.countplot(data=df, x='landing_page', hue='converted')\n",
    "plt.show()\n",
    "#sns.barplot()"
   ]
  },
  {
   "cell_type": "markdown",
   "id": "f393a851",
   "metadata": {},
   "source": [
    "### Step 1: Define the null and alternate hypotheses"
   ]
  },
  {
   "cell_type": "markdown",
   "id": "b82ba3cf",
   "metadata": {},
   "source": [
    "The null and alternative hypotheses can be formulated as follows:\n",
    "> $H_0:$ The proportion of conversions on the new landing page is equal to the proportion of conversions on the old landing page. <br>\n",
    "$H_a:$ The proportion of conversions on the new landing page is greater than the proportion of conversions on the old landing page.\n",
    "\n",
    "Let $p_1$ and $p_2$ be the proportions of conversions the existing landing page and the new landing page, respectively. \n",
    "\n",
    "The above formulated hypotheses can be written mathematically as:\n",
    "> $H_0: p_1 = p_2 $ <br>\n",
    "$H_a: p_1 < p_2 $"
   ]
  },
  {
   "cell_type": "markdown",
   "id": "93e3a94d",
   "metadata": {},
   "source": [
    "### Step 2: Select Appropriate test"
   ]
  },
  {
   "cell_type": "markdown",
   "id": "d52d859d",
   "metadata": {},
   "source": [
    "Univariate > Discrete > 2 samples > Two proportion z-test\n",
    "\n",
    "- Binomially Distributed population - Yes, a user either subscribes or does not subscribe.\n",
    "- Random Sampling - Yes, we were informed that the Data Science team conducted an experiment by randomly selecting 100 users.\n",
    "- If the sample was taking with replacement or if the population is sufficiently large we may assume independence.\n",
    "- Since $np$ and $nq$ for both groups are greater than 10 we can approximate this binomial distribution with a normal distribution: \n",
    ">$np_1 = 50 \\cdot \\frac{21}{50} = 21 \\geq 10$ <br>\n",
    "$nq_1 = 50 \\cdot \\frac{29}{50} = 29 \\geq 10$ <br>\n",
    "$np_2 = 50 \\cdot \\frac{33}{50} = 33 \\geq 10$ <br>\n",
    "$nq_2 = 50 \\cdot \\frac{17}{50} = 17 \\geq 10$\n"
   ]
  },
  {
   "cell_type": "markdown",
   "id": "ffb3794a",
   "metadata": {},
   "source": [
    "### Step 3: Decide the significance level"
   ]
  },
  {
   "cell_type": "markdown",
   "id": "94451567",
   "metadata": {},
   "source": [
    "We've been given a significance level of $\\alpha = 0.05$."
   ]
  },
  {
   "cell_type": "markdown",
   "id": "e4a9d35b",
   "metadata": {},
   "source": [
    "### Step 4: Collect and prepare data"
   ]
  },
  {
   "cell_type": "code",
   "execution_count": 24,
   "id": "bd9f946d",
   "metadata": {},
   "outputs": [
    {
     "name": "stdout",
     "output_type": "stream",
     "text": [
      "[33 21]\n",
      "[50 50]\n"
     ]
    }
   ],
   "source": [
    "# import the porportions test\n",
    "from statsmodels.stats.proportion import proportions_ztest\n",
    "\n",
    "# count the number of conversions\n",
    "convs = np.array([len(df[(df['converted'] == 'yes') & (df['landing_page'] == 'new')]), len(df[(df['converted'] == 'yes') & (df['landing_page'] == 'old')])])\n",
    "print(convs)\n",
    "# set the sample sizes\n",
    "nobs = np.array([len(df[df['landing_page'] == 'new']),len(df[df['landing_page'] == 'old'])])\n",
    "print(nobs)"
   ]
  },
  {
   "cell_type": "markdown",
   "id": "93a34042",
   "metadata": {},
   "source": [
    "### Step 5: Calculate the p-value"
   ]
  },
  {
   "cell_type": "code",
   "execution_count": 25,
   "id": "4cf53262",
   "metadata": {},
   "outputs": [
    {
     "name": "stdout",
     "output_type": "stream",
     "text": [
      "The p-value is 0.016052616408112556.\n"
     ]
    }
   ],
   "source": [
    "# find the p-value\n",
    "test_stat, p_value = proportions_ztest(convs, nobs)\n",
    "print('The p-value is ' + str(p_value) + '.')"
   ]
  },
  {
   "cell_type": "markdown",
   "id": "0d006f99",
   "metadata": {},
   "source": [
    "### Step 6: Compare the p-value with $\\alpha$"
   ]
  },
  {
   "cell_type": "code",
   "execution_count": 26,
   "id": "2f19db89",
   "metadata": {},
   "outputs": [
    {
     "name": "stdout",
     "output_type": "stream",
     "text": [
      "Since the p-value, equal to 0.016052616408112556, is less than the level of significance, we reject the null hypothesis.\n"
     ]
    }
   ],
   "source": [
    "# print the conclusion based on p-value\n",
    "if p_value < 0.05:\n",
    "    print(f'Since the p-value, equal to {p_value}, is less than the level of significance, we reject the null hypothesis.')\n",
    "else:\n",
    "    print(f'Since the p-value, equal to {p_value}, is greater than the level of significance, we fail to reject the null hypothesis.')"
   ]
  },
  {
   "cell_type": "markdown",
   "id": "35563f33",
   "metadata": {},
   "source": [
    "### Step 7:  Draw inference"
   ]
  },
  {
   "cell_type": "markdown",
   "id": "bfdfc81b",
   "metadata": {},
   "source": [
    "At a 5% significance level, there is sufficient evidence to reject the null hypothesis. Hence, there is enough statistical evidence to say that the proportion of conversions on the new landing page is greater than the proportion of conversions on the old landing page. "
   ]
  },
  {
   "cell_type": "markdown",
   "id": "d49bfa2d",
   "metadata": {
    "id": "d49bfa2d"
   },
   "source": [
    "## 3. Is the conversion and preferred language independent or related?"
   ]
  },
  {
   "cell_type": "markdown",
   "id": "95d1793f",
   "metadata": {
    "id": "b0e63f17"
   },
   "source": [
    "### Perform Visual Analysis"
   ]
  },
  {
   "cell_type": "code",
   "execution_count": 27,
   "id": "f47fbab6",
   "metadata": {},
   "outputs": [
    {
     "data": {
      "image/png": "[encoded data removed]",
      "text/plain": [
       "<Figure size 640x480 with 1 Axes>"
      ]
     },
     "metadata": {},
     "output_type": "display_data"
    }
   ],
   "source": [
    "# A visual check of the counts of the conversion by language preferrence\n",
    "sns.countplot(data=df, x='language_preferred', hue='converted')\n",
    "plt.show()"
   ]
  },
  {
   "cell_type": "markdown",
   "id": "1030d47e",
   "metadata": {},
   "source": [
    "- All counts are more than 5"
   ]
  },
  {
   "cell_type": "markdown",
   "id": "f07dbc11",
   "metadata": {},
   "source": [
    "### Step 1: Define the null and alternate hypotheses"
   ]
  },
  {
   "cell_type": "markdown",
   "id": "1c1555b7",
   "metadata": {},
   "source": [
    "The null and alternative hypotheses can be formulated as follows:\n",
    "> $H_0:$ Conversion is independent of preferred language. <br>\n",
    "$H_a:$ Conversion depends on preferred language.\n"
   ]
  },
  {
   "cell_type": "markdown",
   "id": "fa1552d2",
   "metadata": {},
   "source": [
    "### Step 2: Select Appropriate test"
   ]
  },
  {
   "cell_type": "markdown",
   "id": "18fd812d",
   "metadata": {},
   "source": [
    "- Both variables are categorical.\n",
    "- All counts are at least 5.\n",
    "- Random sampling is given in the problem statement.\n",
    "\n",
    "#### A $ \\chi^2$-test for independence is appropriate."
   ]
  },
  {
   "cell_type": "markdown",
   "id": "87b4a6d4",
   "metadata": {},
   "source": [
    "### Step 3: Decide the significance level"
   ]
  },
  {
   "cell_type": "markdown",
   "id": "201eab71",
   "metadata": {},
   "source": [
    "We've been given a significance level of $\\alpha = 0.05$."
   ]
  },
  {
   "cell_type": "markdown",
   "id": "25e603bf",
   "metadata": {},
   "source": [
    "### Step 4: Collect and prepare data"
   ]
  },
  {
   "cell_type": "code",
   "execution_count": 28,
   "id": "e040c665",
   "metadata": {},
   "outputs": [
    {
     "data": {
      "text/html": [
       "<div>\n",
       "<style scoped>\n",
       "    .dataframe tbody tr th:only-of-type {\n",
       "        vertical-align: middle;\n",
       "    }\n",
       "\n",
       "    .dataframe tbody tr th {\n",
       "        vertical-align: top;\n",
       "    }\n",
       "\n",
       "    .dataframe thead th {\n",
       "        text-align: right;\n",
       "    }\n",
       "</style>\n",
       "<table border=\"1\" class=\"dataframe\">\n",
       "  <thead>\n",
       "    <tr style=\"text-align: right;\">\n",
       "      <th>converted</th>\n",
       "      <th>no</th>\n",
       "      <th>yes</th>\n",
       "    </tr>\n",
       "    <tr>\n",
       "      <th>language_preferred</th>\n",
       "      <th></th>\n",
       "      <th></th>\n",
       "    </tr>\n",
       "  </thead>\n",
       "  <tbody>\n",
       "    <tr>\n",
       "      <th>English</th>\n",
       "      <td>11</td>\n",
       "      <td>21</td>\n",
       "    </tr>\n",
       "    <tr>\n",
       "      <th>French</th>\n",
       "      <td>19</td>\n",
       "      <td>15</td>\n",
       "    </tr>\n",
       "    <tr>\n",
       "      <th>Spanish</th>\n",
       "      <td>16</td>\n",
       "      <td>18</td>\n",
       "    </tr>\n",
       "  </tbody>\n",
       "</table>\n",
       "</div>"
      ],
      "text/plain": [
       "converted           no  yes\n",
       "language_preferred         \n",
       "English             11   21\n",
       "French              19   15\n",
       "Spanish             16   18"
      ]
     },
     "execution_count": 28,
     "metadata": {},
     "output_type": "execute_result"
    }
   ],
   "source": [
    "lang = pd.crosstab(index=df['language_preferred'], columns=df['converted'])\n",
    "lang"
   ]
  },
  {
   "cell_type": "markdown",
   "id": "d82e1e5c",
   "metadata": {},
   "source": [
    "### Step 5: Calculate the p-value"
   ]
  },
  {
   "cell_type": "code",
   "execution_count": 29,
   "id": "f8b5a794",
   "metadata": {},
   "outputs": [
    {
     "name": "stdout",
     "output_type": "stream",
     "text": [
      "0.2129888748754345\n"
     ]
    }
   ],
   "source": [
    "#import chi2_contingency\n",
    "from scipy.stats import chi2_contingency\n",
    "\n",
    "#find p-value\n",
    "chi, p_value, dof, expected = chi2_contingency(lang)\n",
    "print(p_value)"
   ]
  },
  {
   "cell_type": "markdown",
   "id": "4456b6c9",
   "metadata": {},
   "source": [
    "### Step 6: Compare the p-value with $\\alpha$"
   ]
  },
  {
   "cell_type": "code",
   "execution_count": 30,
   "id": "294f7f46",
   "metadata": {},
   "outputs": [
    {
     "name": "stdout",
     "output_type": "stream",
     "text": [
      "Since the p-value, equal to 0.2129888748754345, is greater than the level of significance, we fail to reject the null hypothesis.\n"
     ]
    }
   ],
   "source": [
    "# print the conclusion based on p-value\n",
    "if p_value < 0.05:\n",
    "    print(f'Since the p-value, equal to {p_value}, is less than the level of significance, we reject the null hypothesis.')\n",
    "else:\n",
    "    print(f'Since the p-value, equal to {p_value}, is greater than the level of significance, we fail to reject the null hypothesis.')"
   ]
  },
  {
   "cell_type": "markdown",
   "id": "2849481f",
   "metadata": {},
   "source": [
    "### Step 7:  Draw inference"
   ]
  },
  {
   "cell_type": "markdown",
   "id": "69295268",
   "metadata": {},
   "source": [
    "At a 5% significance level, there is not sufficient evidence to reject the null hypothesis. Hence, we must conclude that conversion is independent of preferred language."
   ]
  },
  {
   "cell_type": "markdown",
   "id": "8d585a90",
   "metadata": {
    "id": "8d585a90"
   },
   "source": [
    "## 4. Is the time spent on the new page the same for the different language users?"
   ]
  },
  {
   "cell_type": "markdown",
   "id": "4ed4495e",
   "metadata": {
    "id": "b422f395"
   },
   "source": [
    "### Perform Visual Analysis"
   ]
  },
  {
   "cell_type": "code",
   "execution_count": 31,
   "id": "346892ef",
   "metadata": {},
   "outputs": [
    {
     "data": {
      "image/png": "[encoded data removed]",
      "text/plain": [
       "<Figure size 640x480 with 1 Axes>"
      ]
     },
     "metadata": {},
     "output_type": "display_data"
    }
   ],
   "source": [
    "# creates side-by-side boxplots of the times spent on the landing pages by preferred language\n",
    "sns.boxplot(data=df, x=\"language_preferred\", y=\"time_spent_on_the_page\")\n",
    "plt.axhline(y=df['time_spent_on_the_page'].mean(), c='red') #creates a red line at the overall mean\n",
    "plt.xlabel('Preferred Language')\n",
    "plt.ylabel('Time on Landing Page (Minutes)')\n",
    "plt.show()"
   ]
  },
  {
   "cell_type": "markdown",
   "id": "060e5455",
   "metadata": {},
   "source": [
    "### Step 1: Define the null and alternate hypotheses"
   ]
  },
  {
   "cell_type": "markdown",
   "id": "c06bf36c",
   "metadata": {},
   "source": [
    "The null and alternative hypotheses can be formulated as follows:\n",
    "> $H_0:$ The mean time spent on the new landing page is equal for all languages. <br>\n",
    "$H_a:$ The mean time spent on the new landing page is not equal for all languages.\n",
    "\n",
    "Let $\\mu_S$, $\\mu_E$ and $\\mu_F$ be the mean time spent on the existing landing page for Spanish, English, and French, respectively. \n",
    "\n",
    "The above formulated hypotheses can be written mathematically as:\n",
    "> $H_0: \\mu_S = \\mu_E = \\mu_F $ <br>\n",
    "$H_a:$ At least one of these means is not the same."
   ]
  },
  {
   "cell_type": "markdown",
   "id": "41abb13a",
   "metadata": {},
   "source": [
    "### Step 2: Select Appropriate test"
   ]
  },
  {
   "cell_type": "markdown",
   "id": "0d229d6d",
   "metadata": {},
   "source": [
    "- The normality assumption is checked using the Shapiro-Wilk's test in Step 4 below. Normality is confirmed.\n",
    "- The equality of variances is checked using the Levene's test in step 4 below. Equality of variances is confirmed.\n",
    "\n",
    "#### A one-way ANOVA test is appropriate."
   ]
  },
  {
   "cell_type": "markdown",
   "id": "fe00c6ad",
   "metadata": {},
   "source": [
    "### Step 3: Decide the significance level"
   ]
  },
  {
   "cell_type": "markdown",
   "id": "404bdd16",
   "metadata": {},
   "source": [
    "We've been given a significance level of $\\alpha = 0.05$."
   ]
  },
  {
   "cell_type": "markdown",
   "id": "411a98f2",
   "metadata": {},
   "source": [
    "### Step 4: Collect and prepare data"
   ]
  },
  {
   "cell_type": "code",
   "execution_count": 33,
   "id": "8d38ef1e",
   "metadata": {},
   "outputs": [
    {
     "name": "stdout",
     "output_type": "stream",
     "text": [
      "The p-value is 0.5643193125724792 .\n"
     ]
    }
   ],
   "source": [
    "#Shapiro-Wilk's test\n",
    "from scipy import stats\n",
    "\n",
    "w, p_value = stats.shapiro(df['time_spent_on_the_page'])\n",
    "print('The p-value is', p_value, '.')"
   ]
  },
  {
   "cell_type": "markdown",
   "id": "5d539646",
   "metadata": {},
   "source": [
    "Since the p-value is large, we fail to reject the null hypothesis that the times spent on the landing page follow a normal distribution."
   ]
  },
  {
   "cell_type": "code",
   "execution_count": 34,
   "id": "b94cc4c4",
   "metadata": {},
   "outputs": [
    {
     "name": "stdout",
     "output_type": "stream",
     "text": [
      "The p-value is 0.06515086840327314 .\n"
     ]
    }
   ],
   "source": [
    "# Levene's Test\n",
    "from scipy.stats import levene\n",
    "statistic, p_value = levene(df['time_spent_on_the_page'][df['language_preferred']=='Spanish'],\n",
    "                           df['time_spent_on_the_page'][df['language_preferred']=='English'],\n",
    "                           df['time_spent_on_the_page'][df['language_preferred']=='French'],)\n",
    "print('The p-value is', p_value,'.')"
   ]
  },
  {
   "cell_type": "markdown",
   "id": "cea2a72e",
   "metadata": {},
   "source": [
    "Since the p-value is greater than $\\alpha$, we fail to reject the null hypothesis of homogeneity of variances."
   ]
  },
  {
   "cell_type": "markdown",
   "id": "65f5e057",
   "metadata": {},
   "source": [
    "### Step 5: Calculate the p-value"
   ]
  },
  {
   "cell_type": "code",
   "execution_count": 35,
   "id": "ad2b7eca",
   "metadata": {},
   "outputs": [
    {
     "name": "stdout",
     "output_type": "stream",
     "text": [
      "The p-value is 0.8665610536012648.\n"
     ]
    }
   ],
   "source": [
    "# import F-test\n",
    "from scipy.stats import f_oneway\n",
    "\n",
    "# perform f-test\n",
    "test_stat, p_value, = f_oneway(df.loc[df['language_preferred'] == 'Spanish', 'time_spent_on_the_page'],\n",
    "                              df.loc[df['language_preferred'] == 'English', 'time_spent_on_the_page'],\n",
    "                              df.loc[df['language_preferred'] == 'French', 'time_spent_on_the_page'])\n",
    "print('The p-value is ' + str(p_value) +'.')"
   ]
  },
  {
   "cell_type": "markdown",
   "id": "4a6b5a75",
   "metadata": {},
   "source": [
    "### Step 6: Compare the p-value with $\\alpha$"
   ]
  },
  {
   "cell_type": "code",
   "execution_count": 36,
   "id": "752b6b88",
   "metadata": {},
   "outputs": [
    {
     "name": "stdout",
     "output_type": "stream",
     "text": [
      "Since the p-value = 0.8665610536012648 is greater than the level of significance, we fail to reject the null hypothesis.\n"
     ]
    }
   ],
   "source": [
    "# print the conclusion based on p-value\n",
    "if p_value < 0.05:\n",
    "    print(f'Since the p-value, equal to {p_value}, is less than the level of significance, we reject the null hypothesis.')\n",
    "else:\n",
    "    print(f'Since the p-value = {p_value} is greater than the level of significance, we fail to reject the null hypothesis.')"
   ]
  },
  {
   "cell_type": "markdown",
   "id": "2d55403a",
   "metadata": {},
   "source": [
    "### Step 7:  Draw inference"
   ]
  },
  {
   "cell_type": "markdown",
   "id": "080dfaec",
   "metadata": {},
   "source": [
    "At a 5% significance level, there is not sufficient evidence to reject the null hypothesis. Hence, there is not enough statistical evidence to say that the mean time spent on the new landing page is not equal for all languages."
   ]
  },
  {
   "cell_type": "markdown",
   "id": "3acbc947",
   "metadata": {
    "id": "3acbc947"
   },
   "source": [
    "## Conclusion and Business Recommendations"
   ]
  },
  {
   "cell_type": "markdown",
   "id": "21fb1063",
   "metadata": {
    "id": "21fb1063"
   },
   "source": [
    "- Since the average time spent on the new page is significantly more than the average time spent on the old page, the new page should generate more subscribers than the old landing page.\n",
    "- Indeed we do see the new page generating a larger proportion of new subscribers than we saw with the old landing page. \n",
    "- The conversion status seemed to be independent of the three languages.\n",
    "- Similarly, we did not see a significant enough difference in the mean times spent on the new landing page across the three languages. "
   ]
  },
  {
   "cell_type": "markdown",
   "id": "U0dAd4i0iCHo",
   "metadata": {
    "id": "U0dAd4i0iCHo"
   },
   "source": [
    "___"
   ]
  }
 ],
 "metadata": {
  "colab": {
   "collapsed_sections": [
    "a6a3d218",
    "6970dd99",
    "9d75cfa2",
    "68f3b2c9",
    "fad2de2f",
    "27906576",
    "e5fdf0c8",
    "56b3dafd",
    "c7ee4907",
    "3f58c9a7",
    "5fed2eac",
    "f5c5258d",
    "359b12f8",
    "d9affc84",
    "353e9d24",
    "d49bfa2d",
    "8d585a90",
    "3acbc947"
   ],
   "name": "ENews_Express_Learner_Notebook_Full_Code v1.1.ipynb",
   "provenance": []
  },
  "kernelspec": {
   "display_name": "Python 3 (ipykernel)",
   "language": "python",
   "name": "python3"
  },
  "language_info": {
   "codemirror_mode": {
    "name": "ipython",
    "version": 3
   },
   "file_extension": ".py",
   "mimetype": "text/x-python",
   "name": "python",
   "nbconvert_exporter": "python",
   "pygments_lexer": "ipython3",
   "version": "3.10.9"
  }
 },
 "nbformat": 4,
 "nbformat_minor": 5
}
